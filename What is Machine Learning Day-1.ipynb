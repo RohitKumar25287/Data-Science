{
 "cells": [
  {
   "cell_type": "markdown",
   "metadata": {
    "id": "ATojJ91PNGrv"
   },
   "source": [
    "**Definition and Basic Concepts:**\n",
    "\n",
    "- **Machine Learning** is a subset of AI that enables computers to learn from data and improve over time without being explicitly programmed for every task.\n",
    "- **Key Concepts:**\n",
    "    - **Data and Features:** Data is the raw information we use, and features are the specific attributes or characteristics of the data that we use to make predictions.\n",
    "    - **Model and Algorithm:** A model is what we train using data to make predictions. An algorithm is the method used to train the model.\n",
    "     eg- magine you have a recipe (the algorithm) for baking a cake. The recipe tells you what ingredients to use and how to combine them.\n",
    "After following the recipe, you have a cake (the model). The cake is the result of applying the recipe to the ingredients.\n",
    "You can then use the cake to satisfy a craving or share it with others. \n",
    "    - **Training and Testing:** Training involves teaching the model using a dataset. Testing evaluates how well the model performs on new, unseen data.\n",
    "    - **Overfitting and Underfitting:** Overfitting happens when a model learns the training data too well, including noise and details. Underfitting occurs when a model is too simple to capture the underlying patterns in the data.\n",
    "    - **Evaluation Metrics:** Metrics like accuracy, precision, recall, and F1 score help us evaluate how well our model performs."
   ]
  },
  {
   "cell_type": "markdown",
   "metadata": {
    "jp-MarkdownHeadingCollapsed": true
   },
   "source": [
    "Machine learning (ML) is a type of artificial intelligence (AI) that allows computers to learn from data and perform tasks without needing explicit programming. It uses algorithms to analyze data, identify patterns, and make decisions. \n",
    "### How does ML work?\n",
    "ML uses neural networks and deep learning to learn and improve from data. \n",
    "\n",
    "ML algorithms improve over time as they are exposed to more data. \n",
    "    \n",
    "ML models are the output of the program after running an algorithm on training data. \n",
    "\n",
    "### Uses of ML\n",
    "- **Personalization**: ML can analyze user preferences and behavior to suggest content based on individual user patterns. \n",
    "- **Data analysis**: ML can analyze large datasets to identify patterns and trends. \n",
    "- **Healthcare**: ML programs can analyze health data to support doctors in real-time diagnosis and treatment. \n",
    "- **Manufacturing**: ML can support predictive maintenance, quality control, and logistical solutions. \n",
    "- **Financial services**: ML can improve risk analytics and regulation. \n",
    "- **Retail**: ML can improve customer service, stock management, upselling, and cross-channel marketing.\n",
    "\n",
    "The term machine learning was coined in 1959 by Arthur Samuel, an IBM employee"
   ]
  },
  {
   "cell_type": "markdown",
   "metadata": {},
   "source": [
    "## What is Pre-Processing ?.\n",
    "Data preprocessing is the process of preparing raw data for analysis and model training. It involves identifying and correcting incorrect, incomplete, or irrelevant data. \n",
    "### Steps in data preprocessing:\n",
    "- **Data cleaning**: Involves removing missing values, noise, outliers, and inconsistencies \n",
    "- **Data reduction**: Involves reducing the data size to preserve quality data \n",
    "- **Data integration**: Involves combining data from multiple sources into a single larger data store \n",
    "- **Data transformation**: Involves converting data from one format or structure to another \n",
    "- **Data validation**: Involves ensuring the reliability and correctness of data \n",
    "- **Data encoding**: Involves ensuring that data is fed into the model in a way that it can learn from effectively\n",
    "- \n",
    "### Benefits of data preprocessing\n",
    "Improves the quality and efficiency of ML models \n",
    "\n",
    "Makes data more suitable and meaningful for analysis and model training \n",
    "\n",
    "Helps to ensure that data is reliable and correct \n",
    "\n",
    "Helps to ensure that data is fed into the model in a way that it can learn from effectively "
   ]
  },
  {
   "cell_type": "markdown",
   "metadata": {},
   "source": [
    "# What is the diffrence between Data & Information"
   ]
  },
  {
   "cell_type": "markdown",
   "metadata": {},
   "source": [
    "Data are raw, unorganized facts and figures, while information is data that has been processed, organized, and given context to provide meaning and facilitate understanding or decision-making. \n",
    "Here's a more detailed explanation:\n",
    "- **Data**:\n",
    "Refers to raw, unorganized facts, figures, or symbols. \n",
    "Lacks inherent meaning or context on its own.\n",
    "\n",
    "### Examples: \n",
    "A list of numbers, a customer's phone number, or a single word. \n",
    "\n",
    "Data is the building block of information. \n",
    "\n",
    "- **Information**:\n",
    "Is data that has been processed and organized, giving it context and meaning.\n",
    "\n",
    "Helps people make sense of data and extract insights.\n",
    "\n",
    "### Examples: \n",
    "The average sales figures for a product, a customer's full address and contact information, or a report summarizing key findings. \n",
    "\n",
    "Information is derived from data and is used to make decisions or take actions. "
   ]
  },
  {
   "cell_type": "markdown",
   "metadata": {},
   "source": [
    "##"
   ]
  },
  {
   "cell_type": "markdown",
   "metadata": {},
   "source": [
    "# Install Machine Learning Library use scikit-learn"
   ]
  },
  {
   "cell_type": "code",
   "execution_count": 1,
   "metadata": {
    "colab": {
     "base_uri": "https://localhost:8080/"
    },
    "id": "50S3FV7ONEqF",
    "outputId": "e0a19926-44c6-4b14-d29a-db77697c008b"
   },
   "outputs": [
    {
     "name": "stdout",
     "output_type": "stream",
     "text": [
      "Requirement already satisfied: scikit-learn in c:\\users\\user\\anaconda3\\lib\\site-packages (1.5.1)\n",
      "Requirement already satisfied: numpy>=1.19.5 in c:\\users\\user\\anaconda3\\lib\\site-packages (from scikit-learn) (1.26.4)\n",
      "Requirement already satisfied: scipy>=1.6.0 in c:\\users\\user\\anaconda3\\lib\\site-packages (from scikit-learn) (1.13.1)\n",
      "Requirement already satisfied: joblib>=1.2.0 in c:\\users\\user\\anaconda3\\lib\\site-packages (from scikit-learn) (1.4.2)\n",
      "Requirement already satisfied: threadpoolctl>=3.1.0 in c:\\users\\user\\anaconda3\\lib\\site-packages (from scikit-learn) (3.5.0)\n"
     ]
    }
   ],
   "source": [
    "!pip install scikit-learn"
   ]
  },
  {
   "cell_type": "code",
   "execution_count": 2,
   "metadata": {
    "colab": {
     "base_uri": "https://localhost:8080/"
    },
    "id": "J2LZCdIeQf5p",
    "outputId": "d330fbd4-6510-411b-8e07-fc26041f7855"
   },
   "outputs": [
    {
     "name": "stdout",
     "output_type": "stream",
     "text": [
      "Accuracy: 1.0\n"
     ]
    }
   ],
   "source": [
    "from sklearn import datasets\n",
    "from sklearn.model_selection import train_test_split\n",
    "from sklearn.linear_model import LogisticRegression\n",
    "from sklearn.metrics import accuracy_score\n",
    "\n",
    "# Load a dataset\n",
    "iris = datasets.load_iris()\n",
    "X = iris.data\n",
    "y = iris.target\n",
    "\n",
    "# Split the dataset into training and testing sets\n",
    "X_train, X_test, y_train, y_test = train_test_split(X, y, test_size=0.2, random_state=42)\n",
    "\n",
    "# Create a logistic regression model\n",
    "model = LogisticRegression()\n",
    "\n",
    "# Train the model\n",
    "model.fit(X_train, y_train)\n",
    "\n",
    "# Make predictions\n",
    "y_pred = model.predict(X_test)\n",
    "\n",
    "# Evaluate the model\n",
    "accuracy = accuracy_score(y_test, y_pred)\n",
    "print(f'Accuracy: {accuracy}')\n"
   ]
  },
  {
   "cell_type": "markdown",
   "metadata": {
    "id": "ViPFBTAAWzV0"
   },
   "source": [
    "1. Supervised Learning:\n",
    "\n",
    "- **Definition:** The model is trained on labeled data, where the output is known.\n",
    "- **Examples:**\n",
    "    - **Regression:** Predicting house prices based on features like size and location.\n",
    "    - **Classification:** Categorizing emails as spam or non-spam.\n",
    "- **When to Use:** When you have historical data with known outcomes."
   ]
  },
  {
   "cell_type": "code",
   "execution_count": null,
   "metadata": {
    "id": "KZ60bRHfRza3"
   },
   "outputs": [],
   "source": [
    "A B C D Target\n",
    "\n",
    "numberOfRooms State City Area Price\n",
    "3 up noida 990 15l\n",
    "2 hr gurgaon 500 50l"
   ]
  },
  {
   "cell_type": "markdown",
   "metadata": {
    "id": "VHQ8UemsYsqi"
   },
   "source": [
    "2. Unsupervised Learning:\n",
    "\n",
    "- **Definition:** The model is trained on unlabeled data, where the output is unknown.\n",
    "- **Examples:**\n",
    "    - **Clustering:** Grouping customers into segments based on purchasing behavior.\n",
    "    - **Dimensionality Reduction:** Reducing the number of features in a dataset while retaining important information.\n",
    "- **When to Use:** When you need to find hidden patterns or groupings in data."
   ]
  },
  {
   "cell_type": "markdown",
   "metadata": {
    "id": "6TMFIorDZhqX"
   },
   "source": [
    "3. Reinforcement Learning\n",
    "\n",
    "- **Definition:** The model learns by interacting with an environment and receiving feedback (rewards or penalties).\n",
    "- **Examples:**\n",
    "    - **Game Playing:** Teaching a computer to play chess or Go.\n",
    "    - **Robotics:** Training a robot to navigate a maze.\n",
    "- **When to Use:** When you need to make a sequence of decisions and learn from the consequences.\n",
    "- **Example Explanation:**\n",
    "    - Reinforcement learning is more complex and typically involves custom environments and reward structures. Popular libraries include OpenAI Gym and TensorFlow."
   ]
  },
  {
   "cell_type": "code",
   "execution_count": null,
   "metadata": {
    "id": "qMhp67L2Yx4O"
   },
   "outputs": [],
   "source": []
  }
 ],
 "metadata": {
  "colab": {
   "provenance": []
  },
  "kernelspec": {
   "display_name": "Python 3 (ipykernel)",
   "language": "python",
   "name": "python3"
  },
  "language_info": {
   "codemirror_mode": {
    "name": "ipython",
    "version": 3
   },
   "file_extension": ".py",
   "mimetype": "text/x-python",
   "name": "python",
   "nbconvert_exporter": "python",
   "pygments_lexer": "ipython3",
   "version": "3.12.7"
  }
 },
 "nbformat": 4,
 "nbformat_minor": 4
}
