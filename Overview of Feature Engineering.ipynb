{
 "cells": [
  {
   "cell_type": "markdown",
   "id": "23bf8881-d3d4-4c41-8a02-2cdcb0b556a0",
   "metadata": {},
   "source": [
    "# Overview of Feature Engineering"
   ]
  },
  {
   "cell_type": "markdown",
   "id": "7d08f4d7-5258-4228-9ab9-40e1e65ed21f",
   "metadata": {},
   "source": [
    "**Feature Engineering is the process of using domain knowledge to extract feature from raw data. These feature can be improve the performance of machine learning algorithms**."
   ]
  },
  {
   "cell_type": "markdown",
   "id": "d8401a4c-26e1-4eed-b647-5cbd1cd917c6",
   "metadata": {},
   "source": [
    "## Feature(Columns) Engineering\n",
    "- **Feature Transformation**\n",
    "- **Feature Construction**\n",
    "- **Feature Selection**\n",
    "- **Feature Extraction**"
   ]
  },
  {
   "cell_type": "markdown",
   "id": "18bfbb57-b1d4-4b26-8cca-6a163a819cc3",
   "metadata": {},
   "source": [
    "## We deals Topics in Feature Engineering\n",
    "- **Missing values Imputation**\n",
    "- **Handling Categorical data**\n",
    "- **Handling Outlier Detection**\n",
    "- **Feature Scaling**\n",
    "- **Feature Construction**\n",
    "- **Feature Selection**\n",
    "- **Feature Extraction**"
   ]
  },
  {
   "cell_type": "code",
   "execution_count": null,
   "id": "dfd5da4d-7ce5-48c2-9118-b09ecd817edc",
   "metadata": {},
   "outputs": [],
   "source": []
  },
  {
   "cell_type": "code",
   "execution_count": null,
   "id": "a9ff973d-5dc6-43be-9ff0-e69dd1545767",
   "metadata": {},
   "outputs": [],
   "source": []
  }
 ],
 "metadata": {
  "kernelspec": {
   "display_name": "Python 3 (ipykernel)",
   "language": "python",
   "name": "python3"
  },
  "language_info": {
   "codemirror_mode": {
    "name": "ipython",
    "version": 3
   },
   "file_extension": ".py",
   "mimetype": "text/x-python",
   "name": "python",
   "nbconvert_exporter": "python",
   "pygments_lexer": "ipython3",
   "version": "3.12.7"
  }
 },
 "nbformat": 4,
 "nbformat_minor": 5
}
